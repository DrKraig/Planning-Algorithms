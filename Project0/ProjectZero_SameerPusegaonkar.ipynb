{
 "cells": [
  {
   "cell_type": "markdown",
   "metadata": {},
   "source": [
    "# ENPM 661 - Planning for Autonomous Robots"
   ]
  },
  {
   "cell_type": "markdown",
   "metadata": {},
   "source": [
    "## Project 0 - Introduction to Python"
   ]
  },
  {
   "cell_type": "markdown",
   "metadata": {},
   "source": [
    "### 1.0 Lists"
   ]
  },
  {
   "cell_type": "markdown",
   "metadata": {},
   "source": [
    "A list is a sequence of values. Lists need not be homogeneous always which makes it a most powerful tool in Python. Lists are mutable, and hence, they can be altered even after their creation. Lists in Python are ordered (order of the elements will not change) and have a definite count (they are not infinite).The values in the list, also known as elements are enclosed in square brackets.For example : [25, 40, 50, 80]\n"
   ]
  },
  {
   "cell_type": "markdown",
   "metadata": {},
   "source": [
    "#### 1.1 Creating a List"
   ]
  },
  {
   "cell_type": "code",
   "execution_count": 25,
   "metadata": {},
   "outputs": [
    {
     "name": "stdout",
     "output_type": "stream",
     "text": [
      "4  is the number at index 4\n",
      "5  is the number at index -1\n",
      "3  is the number at index -3\n",
      "0  is the number at index 0\n",
      "2  is the number at index 2\n",
      "3  is the number at index 3\n",
      "1  is the number at index 1\n",
      "5  is the number at index 5\n"
     ]
    }
   ],
   "source": [
    "#Creating a list of numbers and printing the second element:\n",
    "# Dont use the varible name 'list' as it is keyword\n",
    "\n",
    "nums = [0, 1, 2, 3, 4, 5]\n",
    "\n",
    "############################################################\n",
    "# Accessing and printing an element with Integers as index.\n",
    "\n",
    "# Indexing starts with 0!\n",
    "# Accessing and printing the 5th element\n",
    "print(nums[4], \" is the number at index 4\")\n",
    "\n",
    "# Accessing and printing the last element\n",
    "print(nums[-1], \" is the number at index -1\")\n",
    "\n",
    "# Accessing and printing the third last element\n",
    "print(nums[-3], \" is the number at index -3\")\n",
    "\n",
    "# Accessing and printing the first element\n",
    "print(nums[0], \" is the number at index 0\")\n",
    "\n",
    "############################################################\n",
    "# Accessing and printing an element with arithmetic operators.\n",
    "\n",
    "# 4//2 is calculated first & then the result is used as index\n",
    "print(nums[4//2], \" is the number at index\", 4//2)\n",
    "\n",
    "# 3*1 is calculated first & then the result is used as index\n",
    "print(nums[3*1], \" is the number at index\", 3*1)\n",
    "\n",
    "# 0+1 is calculated first & then the result is used as index\n",
    "print(nums[0+1], \" is the number at index\", 0+1)\n",
    "\n",
    "# 6-1 is calculated first & then the result is used as index\n",
    "print(nums[6-1], \" is the number at index\", 6-1)\n",
    "\n",
    "############################################################\n",
    "# Accessing and printing an element with Floating values as index. An error will occur here.\n",
    "#print(nums[4.5]) #Incorrect as index cannot be a floating point value. "
   ]
  },
  {
   "cell_type": "markdown",
   "metadata": {},
   "source": [
    "#### 1.2 Modifying the List"
   ]
  },
  {
   "cell_type": "code",
   "execution_count": 26,
   "metadata": {},
   "outputs": [
    {
     "name": "stdout",
     "output_type": "stream",
     "text": [
      "[-2341235927, 1, 2, 3, 4, 5]\n",
      "[-2341235927, 1, 2, 3, 4, 55555.5]\n",
      "[-2341235927, 1, 2, 2.5, 4, 55555.5]\n",
      "[-2341235927, inf, 2, 2.5, 4, 55555.5]\n"
     ]
    }
   ],
   "source": [
    "############################################################\n",
    "#Modifying the first element and printing the updating list\n",
    "nums[0] = -2341235927\n",
    "print(nums)\n",
    "\n",
    "#Modifying the last element and printing the updating list\n",
    "nums[-1] = 55555.5\n",
    "print(nums)\n",
    "\n",
    "#Modifying the middle element and printing the updating list\n",
    "nums[len(nums)//2] = 2.5 \n",
    "print(nums)\n",
    "\n",
    "#Modifying the second element and printing the updating list\n",
    "nums[1] = float(\"inf\")\n",
    "print(nums)\n",
    "############################################################"
   ]
  },
  {
   "cell_type": "markdown",
   "metadata": {},
   "source": [
    "#### 1.3 Adding a new element to the List"
   ]
  },
  {
   "cell_type": "code",
   "execution_count": 27,
   "metadata": {},
   "outputs": [
    {
     "name": "stdout",
     "output_type": "stream",
     "text": [
      "[-2341235927, inf, 2, 2.5, 4, 55555.5, 100000]\n",
      "[-2341235927, inf, 2, 2.5, 4, 55555.5, 100000, 100000]\n",
      "[-2341235927, inf, 2, 2.5, 4, 55555.5, 100000, 100000, inf]\n",
      "[-2341235927, inf, 2, 2.5, 4, 55555.5, 100000, 100000, inf, -inf]\n",
      "[-2341235927, inf, 2, 2.5, 4, 55555.5, 100000, 100000, inf, -inf, 42]\n",
      "[-2341235927, inf, 2, 2.5, 4, 55555.5, 100000, 100000, inf, -inf, 42, [10, 9, 8, 7, 6, 5, 4, 3, 2, 1]]\n"
     ]
    }
   ],
   "source": [
    "############################################################\n",
    "# Adding number 10\n",
    "nums.append(100000)\n",
    "print(nums)\n",
    "\n",
    "# Adding number 10 again. Lists can have the same elements\n",
    "nums.append(100000)\n",
    "print(nums)\n",
    "\n",
    "# Adding infinity\n",
    "nums.append(float(\"inf\"))\n",
    "print(nums)\n",
    "\n",
    "# Adding -infinity\n",
    "nums.append(float(\"-inf\"))\n",
    "print(nums)\n",
    "\n",
    "# Adding number 42\n",
    "nums.append(42)\n",
    "print(nums)\n",
    "\n",
    "# Adding another list\n",
    "nums.append([10,9,8,7,6,5,4,3,2,1])\n",
    "print(nums)\n",
    "############################################################"
   ]
  },
  {
   "cell_type": "markdown",
   "metadata": {},
   "source": [
    "#### 1.4 Removing an element from the List"
   ]
  },
  {
   "cell_type": "code",
   "execution_count": 28,
   "metadata": {},
   "outputs": [
    {
     "name": "stdout",
     "output_type": "stream",
     "text": [
      "[-2341235927, inf, 2, 2.5, 4, 55555.5, 100000, 100000, inf, -inf, 42]\n",
      "[-2341235927, inf, 2, 2.5, 4, 55555.5, 100000, 100000, inf, -inf]\n",
      "[inf, 2, 2.5, 4, 55555.5, 100000, 100000, inf, -inf]\n",
      "[inf, 2, 4, 55555.5, 100000, 100000, inf, -inf]\n"
     ]
    }
   ],
   "source": [
    "#Removing the last element\n",
    "\n",
    "############################################################\n",
    "# Method 1 using the in-built pop function and accessing the last element with negative index:\n",
    "nums.pop(-1)\n",
    "print(nums)\n",
    "\n",
    "#Removing the last element (Again)\n",
    "# The default value in the pop function is -1. \n",
    "nums.pop()\n",
    "print(nums)\n",
    "\n",
    "#Removing the first element\n",
    "nums.pop(0)\n",
    "print(nums)\n",
    "\n",
    "#Removing the third element\n",
    "nums.pop(2)\n",
    "print(nums)\n",
    "\n",
    "#Removing a non-existant element\n",
    "#nums.pop(2000) #An error will occur here saying, \"IndexError: pop index out of range\"\n",
    "#print(nums)\n",
    "############################################################"
   ]
  },
  {
   "cell_type": "code",
   "execution_count": 29,
   "metadata": {},
   "outputs": [
    {
     "name": "stdout",
     "output_type": "stream",
     "text": [
      "[inf, 2, 4, 55555.5, 100000, 100000, inf]\n",
      "[inf, 2, 4, 55555.5, 100000, 100000]\n",
      "[inf, 4, 55555.5, 100000, 100000]\n"
     ]
    }
   ],
   "source": [
    "############################################################\n",
    "# Method 2 by using del.\n",
    "#Deleting the last element\n",
    "del nums[len(nums)-1]\n",
    "print(nums)\n",
    "\n",
    "# Deleting the last element (again)\n",
    "del nums[-1]\n",
    "print(nums)\n",
    "\n",
    "# Deleting the second element (again)\n",
    "del nums[1]\n",
    "print(nums)\n",
    "############################################################"
   ]
  },
  {
   "cell_type": "markdown",
   "metadata": {},
   "source": [
    "#### 1.5 Sorting the list"
   ]
  },
  {
   "cell_type": "code",
   "execution_count": 30,
   "metadata": {},
   "outputs": [
    {
     "name": "stdout",
     "output_type": "stream",
     "text": [
      "[4, 55555.5, 100000, 100000, inf] Ascending Order using list.sort()\n",
      "[inf, 100000, 100000, 55555.5, 4] Descending Order using list.sort()\n",
      "[4, 55555.5, 100000, 100000, inf] Ascending Order using sorted()\n",
      "[inf, 100000, 100000, 55555.5, 4] Descending Order using sorted()\n"
     ]
    }
   ],
   "source": [
    "############################################################\n",
    "#Method 1 - Using object.sort(). This method does not return a value. Changes the list directly.\n",
    "\n",
    "#Ascending Order\n",
    "nums.sort()\n",
    "print(nums, \"Ascending Order using list.sort()\")\n",
    "\n",
    "#Descending Order\n",
    "nums.sort(reverse = True)\n",
    "print(nums, \"Descending Order using list.sort()\")\n",
    "############################################################\n",
    "#Method 2 - Using sorted(object). This function doesnt sort the list itself instead it returns a sorted list. \n",
    "\n",
    "#Ascending Order\n",
    "numsInAscendingOrder = sorted(nums)\n",
    "print(numsInAscendingOrder, \"Ascending Order using sorted()\")\n",
    "\n",
    "#Descending Order\n",
    "numsInDescendingOrder= sorted(nums, reverse = True)\n",
    "print(numsInDescendingOrder, \"Descending Order using sorted()\")\n",
    "############################################################"
   ]
  },
  {
   "cell_type": "markdown",
   "metadata": {},
   "source": [
    "#### 1.6 Slicing the list\n",
    "Lets print the second and third element"
   ]
  },
  {
   "cell_type": "code",
   "execution_count": 31,
   "metadata": {},
   "outputs": [
    {
     "name": "stdout",
     "output_type": "stream",
     "text": [
      "[100000, 100000]\n",
      "[100000, 100000, 55555.5, 4]\n",
      "[]\n",
      "[inf, 100000, 100000, 55555.5, 4]\n",
      "[inf, 100000, 4]\n"
     ]
    }
   ],
   "source": [
    "############################################################\n",
    "#Slice doesnt delete anything. It is only accesses the elements\n",
    "#Slice can be used with 2 OR 3 limit\n",
    "\n",
    "#2 index values represent the start & stop indices\n",
    "print(nums[1:3])\n",
    "\n",
    "print(nums[1:10])\n",
    "\n",
    "#print(nums[1.5:10])\n",
    "\n",
    "emptyNums = []\n",
    "print(emptyNums[20:200])\n",
    "\n",
    "#Get every number\n",
    "print(nums[:])\n",
    "\n",
    "#3 index values represent the start, stop & jump indices.\n",
    "#Jump indicates the number of elements to be skipped\n",
    "print(nums[::2])\n",
    "############################################################"
   ]
  },
  {
   "cell_type": "markdown",
   "metadata": {},
   "source": [
    "### Practice :\n",
    "Create an empty list.\\\n",
    "Append the list using a for-loop with squares of numbers from 1 to 10.\\\n",
    "Sort and reverse the list.\\\n",
    "Delete the 7th and 8th element and print the list."
   ]
  },
  {
   "cell_type": "code",
   "execution_count": 32,
   "metadata": {},
   "outputs": [
    {
     "name": "stdout",
     "output_type": "stream",
     "text": [
      "[] : Empty List\n",
      "[1, 4, 9, 16, 25, 36, 49, 64, 81, 100] : Squares of nums from 1 to 10\n",
      "[100, 81, 64, 49, 36, 25, 16, 9, 4, 1] : Reversed\n",
      "[100, 81, 64, 49, 36, 25, 9, 4, 1] : Removed 7th Element\n",
      "[100, 81, 64, 49, 36, 25, 9, 4, 1] : Updated List\n",
      "[] : Removed 8th Element\n"
     ]
    }
   ],
   "source": [
    "############################################################\n",
    "nums = []\n",
    "print(nums, \": Empty List\")\n",
    "\n",
    "for num in range(1, 11):\n",
    "    nums.append(num**2)\n",
    "print(nums, \": Squares of nums from 1 to 10\")\n",
    "\n",
    "nums.sort(reverse = True)\n",
    "print(nums, \": Reversed\")\n",
    "\n",
    "nums.pop(6)\n",
    "print(nums, \": Removed 7th Element\")\n",
    "\n",
    "print(nums, \": Updated List\")\n",
    "\n",
    "nums.pop(7)\n",
    "print(emptyNums, \": Removed 8th Element\")\n",
    "############################################################"
   ]
  },
  {
   "cell_type": "markdown",
   "metadata": {},
   "source": [
    "### 2.0  Tuples\n",
    "A Tuple is a collection of Python objects separated by commas. In someways a tuple is similar to a list in terms of indexing, nested objects and repetition but a tuple is immutable unlike lists which are mutable.\n",
    "\n",
    "#### 2.1 Creating tuples"
   ]
  },
  {
   "cell_type": "code",
   "execution_count": 33,
   "metadata": {},
   "outputs": [
    {
     "name": "stdout",
     "output_type": "stream",
     "text": [
      "()\n"
     ]
    }
   ],
   "source": [
    "############################################################\n",
    "# An empty tuple \n",
    "emptyTuple = () \n",
    "print (emptyTuple) \n",
    "############################################################"
   ]
  },
  {
   "cell_type": "code",
   "execution_count": 34,
   "metadata": {},
   "outputs": [
    {
     "name": "stdout",
     "output_type": "stream",
     "text": [
      "('Python', 'was', 'released', 'in', '1991', '&', 'is', 'used', 'by', 'geeks')\n",
      "('Python', 'was', 'released', 'in', '1991', '&', 'is', 'used', 'by', 'geeks')\n"
     ]
    }
   ],
   "source": [
    "############################################################\n",
    "# Creating non-empty tuples \n",
    "# Dont use the varible name 'tuple' as it is keyword\n",
    "\n",
    "# One way of creation \n",
    "tup = 'Python', 'was', 'released', 'in', '1991', '&', 'is', 'used', 'by', 'geeks'\n",
    "print(tup) \n",
    "  \n",
    "# Another for doing the same \n",
    "tup = ('Python', 'was', 'released', 'in', '1991', '&', 'is', 'used', 'by', 'geeks') \n",
    "print(tup)\n",
    "############################################################"
   ]
  },
  {
   "cell_type": "markdown",
   "metadata": {},
   "source": [
    "#### 2.2 Concatenation of Tuples"
   ]
  },
  {
   "cell_type": "code",
   "execution_count": 35,
   "metadata": {},
   "outputs": [
    {
     "name": "stdout",
     "output_type": "stream",
     "text": [
      "Python is 30 years old.\n",
      "The Da Vinci robot can perform surgeries.\n"
     ]
    }
   ],
   "source": [
    "# Code for concatenating 2 tuples \n",
    "############################################################\n",
    "  \n",
    "tupleOne = '30 years ' \n",
    "tupleTwo = 'Python is '\n",
    "tupleThree = 'old.'\n",
    "  \n",
    "print(tupleTwo + tupleOne + tupleThree) \n",
    "############################################################\n",
    "pronoun = 'The Da Vinci robot ' \n",
    "verb = 'can perform '\n",
    "noun = 'surgeries.'\n",
    "  \n",
    "print(pronoun + verb + noun) \n",
    "############################################################"
   ]
  },
  {
   "cell_type": "markdown",
   "metadata": {},
   "source": [
    "#### 2.3 Nesting of Tuples"
   ]
  },
  {
   "cell_type": "code",
   "execution_count": 36,
   "metadata": {},
   "outputs": [
    {
     "name": "stdout",
     "output_type": "stream",
     "text": [
      "(('My youtube watch time for last week in hours',), (3, 7, 8, 10, 16, 13, 9))\n"
     ]
    }
   ],
   "source": [
    "############################################################\n",
    "# Code for creating nested tuples \n",
    "\n",
    "tupleOne = ('My youtube watch time for last week in hours', ) \n",
    "tupleTwo = (3, 7, 8, 10, 16, 13, 9) \n",
    "tupleThree = (tupleOne, tupleTwo) \n",
    "print(tupleThree) \n",
    "############################################################"
   ]
  },
  {
   "cell_type": "markdown",
   "metadata": {},
   "source": [
    "#### 2.4 Repetition in Tuples"
   ]
  },
  {
   "cell_type": "code",
   "execution_count": 37,
   "metadata": {},
   "outputs": [
    {
     "name": "stdout",
     "output_type": "stream",
     "text": [
      "('Beep', 'Beep', 'Beep', 'Beep', 'Beep', 'Beep', 'Beep', 'Beep', 'Beep', 'Beep')\n"
     ]
    }
   ],
   "source": [
    "############################################################\n",
    "# Code to create a tuple with repetition \n",
    "  \n",
    "tupleRepition = ('Beep',)*10\n",
    "print(tupleRepition)\n",
    "############################################################"
   ]
  },
  {
   "cell_type": "markdown",
   "metadata": {},
   "source": [
    "#### 2.5 Immutable Tuples"
   ]
  },
  {
   "cell_type": "code",
   "execution_count": 38,
   "metadata": {},
   "outputs": [
    {
     "name": "stdout",
     "output_type": "stream",
     "text": [
      "(0, 1, 2, 3)\n",
      "(0, 1, 2, 3)\n",
      "(99, 100, 200, 300)\n"
     ]
    }
   ],
   "source": [
    "############################################################\n",
    "# Code to test that tuples are immutable (You will be getting an error message)\n",
    "  \n",
    "tupleOne = (0, 1, 2, 3) \n",
    "# tupleOne[0] = 4\n",
    "print(tupleOne)\n",
    "\n",
    "#Out of bounds error has a lower priority than item assignment in tuples\n",
    "tupleOne = (0, 1, 2, 3) \n",
    "#tupleOne[5] = 10 #Got 'object does not support item asssignment here' error as tuples are immutable.\n",
    "print(tupleOne)\n",
    "\n",
    "#Reinitilized the tuple - No error here\n",
    "tupleOne = ( 99,100, 200, 300)\n",
    "print(tupleOne)\n",
    "############################################################"
   ]
  },
  {
   "cell_type": "markdown",
   "metadata": {},
   "source": [
    "#### 2.6 Slicing in Tuples"
   ]
  },
  {
   "cell_type": "code",
   "execution_count": 39,
   "metadata": {},
   "outputs": [
    {
     "name": "stdout",
     "output_type": "stream",
     "text": [
      "(1, 2, 3) First Index to Last Index\n",
      "(3, 2, 1, 0) Reversed\n",
      "(2, 3) Second Index to Third Index\n",
      "(1, 2) First Index to Second Index\n",
      "(1, 2, 3) First Index to Tenth Index\n",
      "() Out of bounds index\n",
      "(0, 1, 2, 3) Print all elements\n",
      "(0, 2) Jump 2 elements from start to end\n"
     ]
    }
   ],
   "source": [
    "############################################################\n",
    "# Code to test slicing \n",
    "# Slice doesnt delete anything. It is only accesses the elements\n",
    "# Slice can be used with 2 & 3 index values\n",
    "  \n",
    "tupleOne = (0 ,1, 2, 3) \n",
    "\n",
    "#Access from 1st element to last\n",
    "print(tupleOne[1:], \"First Index to Last Index\") \n",
    "\n",
    "#Print all elements in reverse \n",
    "print(tupleOne[::-1], \"Reversed\") \n",
    "\n",
    "#Print elements from 2nd index to 3rd\n",
    "print(tupleOne[2:4], \"Second Index to Third Index\")\n",
    "\n",
    "#2 index values represent the start & stop indices\n",
    "print(tupleOne[1:3], \"First Index to Second Index\")\n",
    "\n",
    "print(tupleOne[1:10], \"First Index to Tenth Index\")\n",
    "\n",
    "#print(nums[1.5:10], \"Floating Point Index\") #Error here because index is floating point\n",
    "\n",
    "print(tupleOne[20:200], \"Out of bounds index\")\n",
    "\n",
    "#Get every number\n",
    "print(tupleOne[:], \"Print all elements\")\n",
    "\n",
    "#3 index values represent the start, stop & jump indices.\n",
    "#Jump indicates the number of elements to be skipped\n",
    "print(tupleOne[::2], \"Jump 2 elements from start to end\")\n",
    "############################################################"
   ]
  },
  {
   "cell_type": "markdown",
   "metadata": {},
   "source": [
    "#### 2.7 Deleting a Tuple"
   ]
  },
  {
   "cell_type": "code",
   "execution_count": 40,
   "metadata": {},
   "outputs": [
    {
     "ename": "NameError",
     "evalue": "name 'tupleTwo' is not defined",
     "output_type": "error",
     "traceback": [
      "\u001b[1;31m---------------------------------------------------------------------------\u001b[0m",
      "\u001b[1;31mNameError\u001b[0m                                 Traceback (most recent call last)",
      "\u001b[1;32m<ipython-input-40-6d80383aef5a>\u001b[0m in \u001b[0;36m<module>\u001b[1;34m\u001b[0m\n\u001b[0;32m      4\u001b[0m \u001b[0mtupleTwo\u001b[0m \u001b[1;33m=\u001b[0m \u001b[1;33m(\u001b[0m\u001b[1;34m'This'\u001b[0m\u001b[1;33m,\u001b[0m \u001b[1;34m'Tuple'\u001b[0m\u001b[1;33m,\u001b[0m \u001b[1;34m'is'\u001b[0m\u001b[1;33m,\u001b[0m \u001b[1;34m'getting'\u001b[0m\u001b[1;33m,\u001b[0m \u001b[1;34m'deleted'\u001b[0m\u001b[1;33m)\u001b[0m\u001b[1;33m\u001b[0m\u001b[1;33m\u001b[0m\u001b[0m\n\u001b[0;32m      5\u001b[0m \u001b[1;32mdel\u001b[0m \u001b[0mtupleTwo\u001b[0m\u001b[1;33m\u001b[0m\u001b[1;33m\u001b[0m\u001b[0m\n\u001b[1;32m----> 6\u001b[1;33m \u001b[0mprint\u001b[0m\u001b[1;33m(\u001b[0m\u001b[0mtupleTwo\u001b[0m\u001b[1;33m)\u001b[0m\u001b[1;33m\u001b[0m\u001b[1;33m\u001b[0m\u001b[0m\n\u001b[0m\u001b[0;32m      7\u001b[0m \u001b[1;31m############################################################\u001b[0m\u001b[1;33m\u001b[0m\u001b[1;33m\u001b[0m\u001b[1;33m\u001b[0m\u001b[0m\n",
      "\u001b[1;31mNameError\u001b[0m: name 'tupleTwo' is not defined"
     ]
    }
   ],
   "source": [
    "############################################################\n",
    "# Code for deleting a tuple - Not Defined error\n",
    "  \n",
    "tupleTwo = ('This', 'Tuple', 'is', 'getting', 'deleted') \n",
    "del tupleTwo \n",
    "print(tupleTwo)\n",
    "############################################################"
   ]
  },
  {
   "cell_type": "markdown",
   "metadata": {},
   "source": [
    "#### 2.8 Finding Length of a Tuple"
   ]
  },
  {
   "cell_type": "code",
   "execution_count": 41,
   "metadata": {},
   "outputs": [
    {
     "name": "stdout",
     "output_type": "stream",
     "text": [
      "Length of the tuple2 is  2\n",
      "Length of the robots tuple is  4\n"
     ]
    }
   ],
   "source": [
    "############################################################\n",
    "# Code for printing the length of a tuple \n",
    "  \n",
    "tuple2 = ('python', 'geek') \n",
    "print(\"Length of the tuple2 is \", len(tuple2))\n",
    "\n",
    "robots = ('da vinci', 'Boston Dynamics Spot', 'Turtle Bot', 'Universal Robot - 10')\n",
    "print(\"Length of the robots tuple is \", len(robots))\n",
    "############################################################"
   ]
  },
  {
   "cell_type": "markdown",
   "metadata": {},
   "source": [
    "#### 2.9 Converting list to a Tuple"
   ]
  },
  {
   "cell_type": "code",
   "execution_count": 42,
   "metadata": {},
   "outputs": [
    {
     "name": "stdout",
     "output_type": "stream",
     "text": [
      "(0, 1, 2)\n",
      "('p', 'y', 't', 'h', 'o', 'n')\n",
      "<class 'list'>\n",
      "<class 'tuple'>\n"
     ]
    }
   ],
   "source": [
    "############################################################\n",
    "# Code for converting a list and a string into a tuple \n",
    "  \n",
    "list1 = [0, 1, 2] \n",
    "print(tuple(list1)) \n",
    "print(tuple('python')) # string 'python' \n",
    "\n",
    "#Checking the object type with the type() function\n",
    "nums = [1,2,2,3]\n",
    "print(type(nums))\n",
    "tupleNums = tuple(nums)\n",
    "print(type(tupleNums))\n",
    "############################################################"
   ]
  },
  {
   "cell_type": "markdown",
   "metadata": {},
   "source": [
    "#### 2.10 Tuples in a loop"
   ]
  },
  {
   "cell_type": "code",
   "execution_count": 43,
   "metadata": {},
   "outputs": [
    {
     "name": "stdout",
     "output_type": "stream",
     "text": [
      "(('ENPM661',),)\n",
      "((('ENPM661',),),)\n",
      "(((('ENPM661',),),),)\n",
      "((((('ENPM661',),),),),)\n",
      "(((((('ENPM661',),),),),),)\n",
      "((((('beep boop', 'beep boop'), ('beep boop', 'beep boop')), (('beep boop', 'beep boop'), ('beep boop', 'beep boop'))), ((('beep boop', 'beep boop'), ('beep boop', 'beep boop')), (('beep boop', 'beep boop'), ('beep boop', 'beep boop')))), (((('beep boop', 'beep boop'), ('beep boop', 'beep boop')), (('beep boop', 'beep boop'), ('beep boop', 'beep boop'))), ((('beep boop', 'beep boop'), ('beep boop', 'beep boop')), (('beep boop', 'beep boop'), ('beep boop', 'beep boop')))))\n"
     ]
    }
   ],
   "source": [
    "############################################################\n",
    "#Code for creating tuples in a loop \n",
    "  \n",
    "tup = ('ENPM661',) \n",
    "n = 5  #Number of time loop runs \n",
    "for i in range(int(n)): \n",
    "    tup = (tup,) \n",
    "    print(tup)\n",
    "    \n",
    "robot = ('beep boop')\n",
    "for i in range(5):\n",
    "    robot = (robot, robot)\n",
    "print(robot)\n",
    "############################################################"
   ]
  },
  {
   "cell_type": "markdown",
   "metadata": {},
   "source": [
    "#### 2.11 Using max() , min()"
   ]
  },
  {
   "cell_type": "code",
   "execution_count": 44,
   "metadata": {},
   "outputs": [
    {
     "name": "stdout",
     "output_type": "stream",
     "text": [
      "Maximum element in tuples 1,2: ENPM,robots\n",
      "Minimum element in tuples 1,2: 661,planning\n"
     ]
    }
   ],
   "source": [
    "############################################################\n",
    "# A python program to demonstrate the use of  \n",
    "# cmp(), max(), min() \n",
    "#cmp() doesnt exist in Python3\n",
    "  \n",
    "tupleOne = ('ENPM', '661') \n",
    "tupleTwo = ('planning', \"robots\") \n",
    "\n",
    "#Min & Max words lexographically in strings for python.\n",
    "print ('Maximum element in tuples 1,2: ' + \n",
    "        str(max(tupleOne)) +  ',' + \n",
    "        str(max(tupleTwo))) \n",
    "\n",
    "print ('Minimum element in tuples 1,2: ' + \n",
    "     str(min(tupleOne)) + ','  + str(min(tupleTwo))) \n",
    "############################################################"
   ]
  },
  {
   "cell_type": "markdown",
   "metadata": {},
   "source": [
    "### 3.0 Dictionary\n",
    "Dictionary in Python is an unordered collection of data values, used to store data values like a map, which unlike other Data Types that hold only single value as an element, Dictionary holds key:value pair. Key value is provided in the dictionary to make it more optimized. Each key-value pair in a Dictionary is separated by a colon :, whereas each key is separated by a ‘comma’.\n",
    "\n",
    "A Dictionary in Python works similar to the Dictionary in a real world. Keys of a Dictionary must be unique and of immutable data type such as Strings, Integers and tuples, but the key-values can be repeated and be of any type.\n",
    "\n",
    "#### 3.1 Creating a Dictionary\n",
    "In Python, a Dictionary can be created by placing sequence of elements within curly {} braces, separated by ‘comma’. Dictionary holds a pair of values, one being the Key and the other corresponding pair element being its Key:value. Values in a dictionary can be of any datatype and can be duplicated, whereas keys can’t be repeated and must be immutable.\n",
    "\n",
    "Dictionary can also be created by the built-in function dict(). An empty dictionary can be created by just placing to curly braces{}."
   ]
  },
  {
   "cell_type": "code",
   "execution_count": 45,
   "metadata": {},
   "outputs": [
    {
     "name": "stdout",
     "output_type": "stream",
     "text": [
      "Empty Dictionary: \n",
      "{}\n",
      "\n",
      "Dictionary with the use of Integer Keys: \n",
      "{14: 'I', 25: 'am', 36: 'a', 42: 'robot'}\n",
      "\n",
      "Dictionary with the use of Mixed Keys: \n",
      "{'Name': 'Robot', 1: [1, 2, 3, 4]}\n",
      "\n",
      "Dictionary with the use of dict(): \n",
      "{100: 'I', 24: 'am', 32: 'a', 41: 'robot'}\n",
      "\n",
      "Dictionary with each item as a pair: \n",
      "{1: 'I', 4: 'eat', 2: 'battries'}\n"
     ]
    }
   ],
   "source": [
    "############################################################\n",
    "# Creating an empty Dictionary \n",
    "myDict = {} \n",
    "print(\"Empty Dictionary: \") \n",
    "print(myDict) \n",
    "  \n",
    "# Creating a Dictionary  \n",
    "# with Integer Keys \n",
    "myDict = {14: 'I', 25: 'am', 36: 'a', 42:'robot'} \n",
    "print(\"\\nDictionary with the use of Integer Keys: \") \n",
    "print(myDict) \n",
    "  \n",
    "# Creating a Dictionary  \n",
    "# with Mixed keys \n",
    "myDict = {'Name': 'Robot', 1: [1, 2, 3, 4]} \n",
    "print(\"\\nDictionary with the use of Mixed Keys: \") \n",
    "print(myDict) \n",
    "  \n",
    "# Creating a Dictionary \n",
    "# with dict() method \n",
    "myDict = dict({100: 'I', 24: 'am', 32: 'a', 41:'robot'}) \n",
    "print(\"\\nDictionary with the use of dict(): \") \n",
    "print(myDict) \n",
    "  \n",
    "# Creating a Dictionary \n",
    "# with each item as a Pair \n",
    "myDict = dict([(1, 'I'), (4, 'eat'), (2, 'battries')]) \n",
    "print(\"\\nDictionary with each item as a pair: \") \n",
    "print(myDict) \n",
    "############################################################"
   ]
  },
  {
   "cell_type": "markdown",
   "metadata": {},
   "source": [
    "#### 3.2 Nested Dictionary"
   ]
  },
  {
   "cell_type": "code",
   "execution_count": 46,
   "metadata": {},
   "outputs": [
    {
     "name": "stdout",
     "output_type": "stream",
     "text": [
      "{1: 'Hello', 2: 'World', 3: {'A': 'Welcome', 'B': 'To', 'C': 'World'}}\n"
     ]
    }
   ],
   "source": [
    "############################################################\n",
    "# Creating a Nested Dictionary  \n",
    "# as shown in the below image \n",
    "Dict = {1: 'Hello', 2: 'World',  \n",
    "        3:{'A' : 'Welcome', 'B' : 'To', 'C' : 'World'}} \n",
    "  \n",
    "print(Dict) \n",
    "############################################################"
   ]
  },
  {
   "cell_type": "markdown",
   "metadata": {},
   "source": [
    "#### 3.3 Adding elements to a Dictionary\n",
    "In Python Dictionary, addition of elements can be done in multiple ways. One value at a time can be added to a Dictionary by defining value along with the key e.g. Dict[Key] = ‘Value’. Updating an existing value in a Dictionary can be done by using the built-in update() method. Nested key values can also be added to an existing Dictionary.\n",
    "\n",
    "Note- While adding a value, if the key value already exists, the value gets updated otherwise a new Key with the value is added to the Dictionary."
   ]
  },
  {
   "cell_type": "code",
   "execution_count": 47,
   "metadata": {},
   "outputs": [
    {
     "name": "stdout",
     "output_type": "stream",
     "text": [
      "Empty Dictionary: \n",
      "{}\n",
      "\n",
      "Dictionary after adding 3 elements: \n",
      "{0: 'Test', 2: 'Dictionary', 3: 1}\n",
      "\n",
      "Dictionary after adding 3 elements: \n",
      "{0: 'Test', 2: 'Dictionary', 3: 1, 'Value_set': (2, 3, 4)}\n",
      "\n",
      "Updated key value: \n",
      "{0: 'Test', 2: 'Welcome', 3: 1, 'Value_set': (2, 3, 4)}\n",
      "\n",
      "Adding a Nested Key: \n",
      "{0: 'Test', 2: 'Welcome', 3: 1, 'Value_set': (2, 3, 4), 5: {'Nested': {'1': 'Test', '2': 'Dictonary'}}}\n"
     ]
    }
   ],
   "source": [
    "############################################################\n",
    "# Creating an empty Dictionary \n",
    "Dict = {} \n",
    "print(\"Empty Dictionary: \") \n",
    "print(Dict) \n",
    "  \n",
    "# Adding elements one at a time \n",
    "Dict[0] = 'Test'\n",
    "Dict[2] = 'Dictionary'\n",
    "Dict[3] = 1\n",
    "print(\"\\nDictionary after adding 3 elements: \") \n",
    "print(Dict) \n",
    "  \n",
    "# Adding set of values  \n",
    "# to a single Key \n",
    "Dict['Value_set'] = 2, 3, 4\n",
    "print(\"\\nDictionary after adding 3 elements: \") \n",
    "print(Dict) \n",
    "  \n",
    "# Updating existing Key's Value \n",
    "Dict[2] = 'Welcome'\n",
    "print(\"\\nUpdated key value: \") \n",
    "print(Dict) \n",
    "  \n",
    "# Adding Nested Key value to Dictionary \n",
    "Dict[5] = {'Nested' :{'1' : 'Test', '2' : 'Dictonary'}} \n",
    "print(\"\\nAdding a Nested Key: \") \n",
    "print(Dict) \n",
    "############################################################"
   ]
  },
  {
   "cell_type": "markdown",
   "metadata": {},
   "source": [
    "#### 3.4 Accessing elements from a Dictionary\n",
    "In order to access the items of a dictionary refer to its key name.Key can be used inside square brackets.There is also a method called get() that will also help in acessing the element from a dictionary."
   ]
  },
  {
   "cell_type": "code",
   "execution_count": 48,
   "metadata": {},
   "outputs": [
    {
     "name": "stdout",
     "output_type": "stream",
     "text": [
      "Acessing a element using key:\n",
      "Robot\n",
      "Acessing a element using key:\n",
      "Arm\n",
      "Acessing a element using get:\n",
      "None\n"
     ]
    }
   ],
   "source": [
    "############################################################\n",
    "# Python program to demonstrate   \n",
    "# accesing a element from a Dictionary  \n",
    "  \n",
    "# Creating a Dictionary  \n",
    "Dict = {1: 'Arm', 'name': 'Robot', 2: 'Cameras'} \n",
    "  \n",
    "# accessing a element using key \n",
    "print(\"Acessing a element using key:\") \n",
    "print(Dict['name']) \n",
    "  \n",
    "# accessing a element using key \n",
    "print(\"Acessing a element using key:\") \n",
    "print(Dict[1]) \n",
    "  \n",
    "# accessing a element using get() \n",
    "# method \n",
    "print(\"Acessing a element using get:\") \n",
    "print(Dict.get(3)) \n",
    "############################################################"
   ]
  },
  {
   "cell_type": "markdown",
   "metadata": {},
   "source": [
    "#### 3.5 Removing Elements from Dictionary\n",
    "In Python Dictionary, deletion of keys can be done by using the del keyword. Using del keyword, specific values from a dictionary as well as whole dictionary can be deleted. Other functions like pop() and popitem() can also be used for deleting specific values and arbitrary values from a Dictionary. All the items from a dictionary can be deleted at once by using clear() method. Items in a Nested dictionary can also be deleted by using del keyword and providing specific nested key and particular key to be deleted from that nested Dictionary. Note- del Dict will delete the entire dictionary and hence printing it after deletion will raise an Error."
   ]
  },
  {
   "cell_type": "code",
   "execution_count": 49,
   "metadata": {},
   "outputs": [
    {
     "name": "stdout",
     "output_type": "stream",
     "text": [
      "Initial Dictionary: \n",
      "{5: 'Welcome', 6: 'To', 7: 'World', 'A': {1: 'Robot', 2: 'Says', 3: 'Hi'}, 'B': {1: 'Geeks', 2: 'Life'}}\n",
      "\n",
      "Deleting a specific key: \n",
      "{5: 'Welcome', 7: 'World', 'A': {1: 'Robot', 2: 'Says', 3: 'Hi'}, 'B': {1: 'Geeks', 2: 'Life'}}\n",
      "\n",
      "Deleting a key from Nested Dictionary: \n",
      "{5: 'Welcome', 7: 'World', 'A': {1: 'Robot', 3: 'Hi'}, 'B': {1: 'Geeks', 2: 'Life'}}\n",
      "\n",
      "Popping specific element: \n",
      "{7: 'World', 'A': {1: 'Robot', 3: 'Hi'}, 'B': {1: 'Geeks', 2: 'Life'}}\n",
      "\n",
      "Pops an arbitrary key-value pair: \n",
      "{7: 'World', 'A': {1: 'Robot', 3: 'Hi'}}\n",
      "\n",
      "Deleting Entire Dictionary: \n",
      "{}\n"
     ]
    }
   ],
   "source": [
    "############################################################\n",
    "# Initial Dictionary \n",
    "Dict = { 5 : 'Welcome', 6 : 'To', 7 : 'World', \n",
    "        'A' : {1 : 'Robot', 2 : 'Says', 3 : 'Hi'}, \n",
    "        'B' : {1 : 'Geeks', 2 : 'Life'}} \n",
    "print(\"Initial Dictionary: \") \n",
    "print(Dict) \n",
    "  \n",
    "# Deleting a Key value \n",
    "del Dict[6] \n",
    "print(\"\\nDeleting a specific key: \") \n",
    "print(Dict) \n",
    "  \n",
    "# Deleting a Key from \n",
    "# Nested Dictionary \n",
    "del Dict['A'][2] \n",
    "print(\"\\nDeleting a key from Nested Dictionary: \") \n",
    "print(Dict) \n",
    "  \n",
    "# Deleting a Key  \n",
    "# using pop() \n",
    "Dict.pop(5) \n",
    "print(\"\\nPopping specific element: \") \n",
    "print(Dict) \n",
    "  \n",
    "# Deleting an arbitrary Key-value pair \n",
    "# using popitem() \n",
    "Dict.popitem() \n",
    "print(\"\\nPops an arbitrary key-value pair: \") \n",
    "print(Dict) \n",
    "  \n",
    "# Deleting entire Dictionary \n",
    "Dict.clear() \n",
    "print(\"\\nDeleting Entire Dictionary: \") \n",
    "print(Dict) \n",
    "############################################################"
   ]
  },
  {
   "cell_type": "markdown",
   "metadata": {},
   "source": [
    "#### 3.6 Dictionary Methods\n",
    "##### 3.6.1 Copy()\n",
    "They copy() method returns a shallow copy of the dictionary.\n",
    "\n",
    "###### Syntax\n",
    "dict.copy()"
   ]
  },
  {
   "cell_type": "code",
   "execution_count": 50,
   "metadata": {},
   "outputs": [
    {
     "name": "stdout",
     "output_type": "stream",
     "text": [
      "{1: 'geeks', 2: 'for'}\n"
     ]
    }
   ],
   "source": [
    "############################################################\n",
    "originalDict = {1:'geeks', 2:'for'} \n",
    "  \n",
    "## Write code to copy \"original\" dictionary and print the newly copied dictionary\n",
    "\n",
    "copyDict = originalDict.copy()\n",
    "print(copyDict)\n",
    "############################################################"
   ]
  },
  {
   "cell_type": "markdown",
   "metadata": {},
   "source": [
    "##### 3.6.2 clear()\n",
    "The clear() method removes all items from the dictionary.\n",
    "\n",
    "##### Syntax\n",
    "dict.clear()"
   ]
  },
  {
   "cell_type": "code",
   "execution_count": 51,
   "metadata": {},
   "outputs": [
    {
     "name": "stdout",
     "output_type": "stream",
     "text": [
      "{}\n"
     ]
    }
   ],
   "source": [
    "############################################################\n",
    "text = {1: \"geeks\", 2: \"for\"} \n",
    "  \n",
    "# write the code to clear the content of the dictionary and then print the empty dictionary \n",
    "text.clear()\n",
    "print(text)\n",
    "############################################################"
   ]
  },
  {
   "cell_type": "markdown",
   "metadata": {},
   "source": [
    "##### 3.6.3 pop()\n",
    "Python pop() method removes an element from the dictionary. It removes the element which is associated to the specified key.\n",
    "\n",
    "If specified key is present in the dictionary, it remove and return its value.\n",
    "\n",
    "If the specified key is not present, it throws an error KeyError.\n",
    "\n",
    "##### Syntax\n",
    "dict.pop(key, def)\n",
    "\n",
    "##### Parameters :\n",
    "key : The key whose key-value pair has to be returned and removed.\n",
    "\n",
    "def : The default value to return if specified key is not present."
   ]
  },
  {
   "cell_type": "code",
   "execution_count": 52,
   "metadata": {},
   "outputs": [
    {
     "name": "stdout",
     "output_type": "stream",
     "text": [
      "525\n"
     ]
    }
   ],
   "source": [
    "############################################################\n",
    "# Python dictionary pop() Method  \n",
    "# Creating a dictionary  \n",
    "inventory = {'shirts': 25, 'paints': 220, 'shoes': 525, 'tshirts': 217}  \n",
    "# Calling method  \n",
    "element = inventory.pop('shoes')  \n",
    "# Displaying result  \n",
    "print(element)  \n",
    "############################################################"
   ]
  },
  {
   "cell_type": "code",
   "execution_count": 53,
   "metadata": {},
   "outputs": [
    {
     "name": "stdout",
     "output_type": "stream",
     "text": [
      "100\n"
     ]
    }
   ],
   "source": [
    "############################################################\n",
    "inventory = {'shirts': 25, 'paints': 220, 'tshirts': 217}  \n",
    "\n",
    "# write code to get the value for the key 'shoes'. If the key is not is the dictionary return 100\n",
    "\n",
    "if 'shoes' in inventory:\n",
    "    print(inventory[shoes])\n",
    "else:\n",
    "    print(100)\n",
    "############################################################"
   ]
  },
  {
   "cell_type": "markdown",
   "metadata": {},
   "source": [
    "##### 3.6.4 popitem()\n",
    "popitem() method in dictionary helps to achieve similar purpose. It removes the arbitrary key-value pair from the dictionary and returns it as tuple.\n",
    "\n",
    "##### Syntax\n",
    "dict.popitem()\n",
    "\n",
    "##### Parameters : None\n",
    "\n",
    "Returns : A tuple containing the arbitrary key-value pair from dictionary. That pair is removed from dictionary."
   ]
  },
  {
   "cell_type": "code",
   "execution_count": 54,
   "metadata": {},
   "outputs": [
    {
     "name": "stdout",
     "output_type": "stream",
     "text": [
      "('Akash', 2) is the key- value pair removed.\n",
      "{'Nikhil': 7, 'Akshat': 1} are the remaining key-value pairs.\n"
     ]
    }
   ],
   "source": [
    "############################################################\n",
    "test_dict = { \"Nikhil\" : 7, \"Akshat\" : 1, \"Akash\" : 2 } \n",
    "  \n",
    "# write the code using popitem() to return + remove arbitrary key value pair and print it \n",
    "print(test_dict.popitem(), \"is the key- value pair removed.\")\n",
    "print(test_dict, \"are the remaining key-value pairs.\")\n",
    "############################################################"
   ]
  },
  {
   "cell_type": "markdown",
   "metadata": {},
   "source": [
    "##### 3.6.5 get()\n",
    "This method returns the value for the given key, if present in the dictionary. If not, then it will return None (if get() is used with only one argument).\n",
    "\n",
    "##### Syntax\n",
    "Dict.get(key, default=None)"
   ]
  },
  {
   "cell_type": "code",
   "execution_count": 55,
   "metadata": {},
   "outputs": [
    {
     "name": "stdout",
     "output_type": "stream",
     "text": [
      "1\n",
      "Not found\n"
     ]
    }
   ],
   "source": [
    "############################################################\n",
    "dic = {\"A\":1, \"B\":2} \n",
    "print(dic.get(\"A\")) \n",
    "\n",
    "# write the code to get the value for key 'C'. Print \"Not found\" if the key is not present\n",
    "\n",
    "if dic.get('C') == None:\n",
    "    print(\"Not found\" )\n",
    "else:\n",
    "    print(dic['C'])    \n",
    "############################################################"
   ]
  },
  {
   "cell_type": "markdown",
   "metadata": {},
   "source": [
    "##### 3.6.6 values()\n",
    "values() is an inbuilt method in Python programming language that returns a list of all the values available in a given dictionary.\n",
    "\n",
    "##### Syntax\n",
    "dictionary_name.values()"
   ]
  },
  {
   "cell_type": "code",
   "execution_count": 56,
   "metadata": {},
   "outputs": [
    {
     "name": "stdout",
     "output_type": "stream",
     "text": [
      "dict_values([2, 3, 4])\n"
     ]
    }
   ],
   "source": [
    "############################################################\n",
    "dictionary = {\"A\": 2, \"B\": 3, \"C\": 4} \n",
    "# write the code to print the values in the dictionary\n",
    "print(dictionary.values())\n",
    "############################################################"
   ]
  },
  {
   "cell_type": "markdown",
   "metadata": {},
   "source": [
    "##### 3.6.7 update()\n",
    "In Python Dictionary, update() method updates the dictionary with the elements from the another dictionary object or from an iterable of key/value pairs.\n",
    "\n",
    "##### Syntax\n",
    "dict.update([other_dictionary])\n",
    "\n",
    "Parameters: This method takes either a dictionary or an iterable object of key/value pairs (generally tuples) as parameters.\n",
    "\n",
    "Returns: It doesn’t return any value but updates the Dictionary with elements from a dictionary object or an iterable object of key/value pairs."
   ]
  },
  {
   "cell_type": "code",
   "execution_count": 57,
   "metadata": {},
   "outputs": [
    {
     "name": "stdout",
     "output_type": "stream",
     "text": [
      "Original Dictionary:\n",
      "{'A': 'Geeks', 'B': 'For'}\n",
      "Updated Dictionary:\n",
      "{'A': 'Geeks', 'B': 'Geeks'}\n"
     ]
    }
   ],
   "source": [
    "############################################################\n",
    "# Dictionary with three items  \n",
    "Dictionary1 = { 'A': 'Geeks', 'B': 'For', } \n",
    "Dictionary2 = { 'B': 'Geeks' } \n",
    "  \n",
    "# Dictionary before Updation \n",
    "print(\"Original Dictionary:\") \n",
    "print(Dictionary1) \n",
    "\n",
    "# Write the code to update \"Dictionary1\" with \"Dictionary2\" and print\n",
    "Dictionary1.update(Dictionary2)\n",
    "print(\"Updated Dictionary:\") \n",
    "print(Dictionary1)\n",
    "############################################################"
   ]
  },
  {
   "cell_type": "markdown",
   "metadata": {},
   "source": [
    "### 4.0 Loop: 'for'"
   ]
  },
  {
   "cell_type": "markdown",
   "metadata": {},
   "source": [
    "#### Creating a new List with the name \"my_list\""
   ]
  },
  {
   "cell_type": "code",
   "execution_count": 58,
   "metadata": {},
   "outputs": [],
   "source": [
    "my_list = [1, 2, 3, 4, 'Python', 'is', 'neat']"
   ]
  },
  {
   "cell_type": "markdown",
   "metadata": {},
   "source": [
    "Iterating through each term in the List. Printing each element of the List"
   ]
  },
  {
   "cell_type": "code",
   "execution_count": 59,
   "metadata": {},
   "outputs": [
    {
     "name": "stdout",
     "output_type": "stream",
     "text": [
      "1\n",
      "2\n",
      "3\n",
      "4\n",
      "Python\n",
      "is\n",
      "neat\n"
     ]
    }
   ],
   "source": [
    "for item in my_list:\n",
    "    print(item) "
   ]
  },
  {
   "cell_type": "markdown",
   "metadata": {},
   "source": [
    "#### Syntax: \"break\"\n",
    "\n",
    "Iterating through the list and if target value is reached, break.\n",
    "\n",
    "This will break and terminate the loop when the required keyword is found."
   ]
  },
  {
   "cell_type": "code",
   "execution_count": 83,
   "metadata": {},
   "outputs": [
    {
     "name": "stdout",
     "output_type": "stream",
     "text": [
      "1\n",
      "2\n",
      "3\n",
      "4\n"
     ]
    }
   ],
   "source": [
    "for item in my_list:\n",
    "    if item == 'Python':\n",
    "        break\n",
    "    print(item)"
   ]
  },
  {
   "cell_type": "markdown",
   "metadata": {},
   "source": [
    "#### Syntax \"continue\"\n",
    "\n",
    "Iterating through the list, if target is reached, move on to the next element\n",
    "\n",
    "The number '4' doesn't get printed\n",
    "\n",
    "Continue to the next item without executing the lines occuring after continue inside the loop."
   ]
  },
  {
   "cell_type": "code",
   "execution_count": 60,
   "metadata": {},
   "outputs": [
    {
     "name": "stdout",
     "output_type": "stream",
     "text": [
      "1\n",
      "2\n",
      "3\n",
      "Python\n",
      "is\n",
      "neat\n"
     ]
    }
   ],
   "source": [
    "for item in my_list:\n",
    "    if item == 4:\n",
    "        continue\n",
    "    print(item)"
   ]
  },
  {
   "cell_type": "markdown",
   "metadata": {},
   "source": [
    "#### Syntax \"enumerate\"\n",
    "\n",
    "Enumerate() method adds a counter to an iterable and returns it in a form of enumerate object. \n",
    "\n",
    "This enumerate object can then be used directly in for loops"
   ]
  },
  {
   "cell_type": "code",
   "execution_count": 61,
   "metadata": {},
   "outputs": [
    {
     "name": "stdout",
     "output_type": "stream",
     "text": [
      "idx: 0, value: 1\n",
      "idx: 1, value: 2\n",
      "idx: 2, value: 3\n",
      "idx: 3, value: 4\n",
      "idx: 4, value: Python\n",
      "idx: 5, value: is\n",
      "idx: 6, value: neat\n"
     ]
    }
   ],
   "source": [
    "for idx, val in enumerate(my_list):\n",
    "    print('idx: {}, value: {}'.format(idx, val))"
   ]
  },
  {
   "cell_type": "markdown",
   "metadata": {},
   "source": [
    "#### Syntax \"range\"\n",
    "To control the iterations of \"for loop\", range can be used."
   ]
  },
  {
   "cell_type": "code",
   "execution_count": 62,
   "metadata": {},
   "outputs": [
    {
     "name": "stdout",
     "output_type": "stream",
     "text": [
      "0\n",
      "1\n",
      "2\n",
      "3\n",
      "4\n"
     ]
    }
   ],
   "source": [
    "for number in range(5):\n",
    "    print(number)"
   ]
  },
  {
   "cell_type": "code",
   "execution_count": 63,
   "metadata": {},
   "outputs": [
    {
     "name": "stdout",
     "output_type": "stream",
     "text": [
      "2\n",
      "3\n",
      "4\n"
     ]
    }
   ],
   "source": [
    "for number in range(2, 5):\n",
    "    print(number)"
   ]
  },
  {
   "cell_type": "markdown",
   "metadata": {},
   "source": [
    "The last number '2' specifies the step size of each iteration"
   ]
  },
  {
   "cell_type": "code",
   "execution_count": 64,
   "metadata": {},
   "outputs": [
    {
     "name": "stdout",
     "output_type": "stream",
     "text": [
      "0\n",
      "2\n",
      "4\n",
      "6\n",
      "8\n"
     ]
    }
   ],
   "source": [
    "for number in range(0, 10, 2):\n",
    "    print(number)"
   ]
  },
  {
   "cell_type": "markdown",
   "metadata": {},
   "source": [
    "#### Create a list of strings based on a list of numbers\n",
    "The rules:\n",
    "\n",
    "If the number is a multiple of five and odd, the string should be 'five odd'\n",
    "\n",
    "If the number is a multiple of five and even, the string should be 'five even'\n",
    "\n",
    "If the number is odd, the string is 'odd'\n",
    "\n",
    "If the number is even, the string is 'even'\n",
    "\n",
    "(P.S. Refer textbook for mathematical operations - Section 2.5)"
   ]
  },
  {
   "cell_type": "code",
   "execution_count": 65,
   "metadata": {},
   "outputs": [],
   "source": [
    "numbers = [1, 3, 4, 6, 81, 80, 100, 95]"
   ]
  },
  {
   "cell_type": "code",
   "execution_count": 66,
   "metadata": {},
   "outputs": [
    {
     "name": "stdout",
     "output_type": "stream",
     "text": [
      "['odd', 'odd', 'even', 'even', 'odd', 'five even', 'five even', 'five odd']\n"
     ]
    }
   ],
   "source": [
    "############################################################\n",
    "# Your implementation\n",
    "\n",
    "my_list = []\n",
    "\n",
    "for num in numbers:\n",
    "    if num % 5 == 0 and num % 2 != 0:\n",
    "        my_list.append('five odd')\n",
    "    elif num % 5 == 0 and num % 2 == 0:\n",
    "        my_list.append('five even')\n",
    "    elif num % 2 != 0:\n",
    "        my_list.append('odd')\n",
    "    elif num % 2 == 0:\n",
    "        my_list.append('even')   \n",
    "print(my_list)\n",
    "############################################################"
   ]
  },
  {
   "cell_type": "markdown",
   "metadata": {},
   "source": [
    "Assert will cross check if the output generated is the required ouput. If not, it will throw an error"
   ]
  },
  {
   "cell_type": "code",
   "execution_count": 67,
   "metadata": {},
   "outputs": [],
   "source": [
    "assert my_list == ['odd', 'odd', 'even', 'even', 'odd', 'five even', 'five even', 'five odd']"
   ]
  },
  {
   "cell_type": "markdown",
   "metadata": {},
   "source": [
    "### Loop: 'while'\n",
    "\n",
    "With the while loop we can execute a set of statements as long as a condition is true.\n",
    "\n",
    "The while loop requires relevant variables to be ready, in this example we need to define an indexing variable, i, which we set to 1."
   ]
  },
  {
   "cell_type": "code",
   "execution_count": 68,
   "metadata": {},
   "outputs": [
    {
     "name": "stdout",
     "output_type": "stream",
     "text": [
      "1\n",
      "2\n",
      "3\n",
      "4\n",
      "5\n",
      "6\n",
      "7\n",
      "8\n",
      "9\n"
     ]
    }
   ],
   "source": [
    "counter = 1\n",
    "while counter < 10:\n",
    "    print(counter)\n",
    "    counter += 1"
   ]
  },
  {
   "cell_type": "markdown",
   "metadata": {},
   "source": [
    "With the break statement we can stop the loop even if the while condition is true:"
   ]
  },
  {
   "cell_type": "code",
   "execution_count": 69,
   "metadata": {},
   "outputs": [
    {
     "name": "stdout",
     "output_type": "stream",
     "text": [
      "1\n",
      "2\n",
      "3\n"
     ]
    }
   ],
   "source": [
    "counter = 1\n",
    "while counter < 15:\n",
    "    print(counter)\n",
    "    if counter == 3:\n",
    "        break\n",
    "    counter += 1"
   ]
  },
  {
   "cell_type": "markdown",
   "metadata": {},
   "source": [
    "With the continue statement we can stop the current iteration, and continue with the next:"
   ]
  },
  {
   "cell_type": "code",
   "execution_count": 70,
   "metadata": {},
   "outputs": [
    {
     "name": "stdout",
     "output_type": "stream",
     "text": [
      "1\n",
      "2\n",
      "4\n",
      "5\n"
     ]
    }
   ],
   "source": [
    "counter = 0\n",
    "while counter < 5:\n",
    "    counter += 1\n",
    "    if counter == 3:\n",
    "        continue\n",
    "    print(counter)"
   ]
  },
  {
   "cell_type": "markdown",
   "metadata": {},
   "source": [
    "With the else statement we can run a block of code once when the condition no longer is true:"
   ]
  },
  {
   "cell_type": "code",
   "execution_count": 71,
   "metadata": {},
   "outputs": [
    {
     "name": "stdout",
     "output_type": "stream",
     "text": [
      "1\n",
      "2\n",
      "3\n",
      "4\n",
      "5\n",
      "6\n",
      "7\n",
      "8\n",
      "9\n",
      "Counter is no longer less than 10\n"
     ]
    }
   ],
   "source": [
    "counter = 1\n",
    "while counter < 10:\n",
    "    print(counter)\n",
    "    counter += 1\n",
    "else:\n",
    "    print(\"Counter is no longer less than 10\")"
   ]
  },
  {
   "cell_type": "markdown",
   "metadata": {},
   "source": [
    "## Plotting using Matplotlib"
   ]
  },
  {
   "cell_type": "markdown",
   "metadata": {},
   "source": [
    "matplotlib.pyplot is a collection of command style functions that make matplotlib work like MATLAB. Each pyplot function makes some change to a figure: e.g., creates a figure, creates a plotting area in a figure, plots some lines in a plotting area, decorates the plot with labels, etc."
   ]
  },
  {
   "cell_type": "code",
   "execution_count": 72,
   "metadata": {},
   "outputs": [
    {
     "data": {
      "image/png": "[encoded data removed]",
      "text/plain": [
       "<Figure size 432x288 with 1 Axes>"
      ]
     },
     "metadata": {
      "needs_background": "light"
     },
     "output_type": "display_data"
    }
   ],
   "source": [
    "############################################################\n",
    "import matplotlib.pyplot as plt\n",
    "plt.plot([100, 2, 3, 4, 5,10, float(\"inf\"), 5])\n",
    "plt.ylabel('some numbers')\n",
    "plt.show()\n",
    "############################################################"
   ]
  },
  {
   "cell_type": "markdown",
   "metadata": {},
   "source": [
    "#### Formatting the style of your plot\n",
    "For every x, y pair of arguments, there is an optional third argument which is the format string that indicates the color and line type of the plot. The letters and symbols of the format string are from MATLAB, and you concatenate a color string with a line style string. The default format string is 'b-', which is a solid blue line. For example, to plot the above with red circles, you would issue"
   ]
  },
  {
   "cell_type": "code",
   "execution_count": 73,
   "metadata": {},
   "outputs": [
    {
     "data": {
      "image/png": "[encoded data removed]",
      "text/plain": [
       "<Figure size 432x288 with 1 Axes>"
      ]
     },
     "metadata": {
      "needs_background": "light"
     },
     "output_type": "display_data"
    }
   ],
   "source": [
    "############################################################\n",
    "plt.plot([1, 2, 3, 4], [1, 4, 9, 16], 'ro')\n",
    "plt.axis([0, 6, 0, 20])\n",
    "plt.show()\n",
    "############################################################"
   ]
  },
  {
   "cell_type": "markdown",
   "metadata": {},
   "source": [
    "If matplotlib were limited to working with lists, it would be fairly useless for numeric processing. Generally, you will use numpy arrays. In fact, all sequences are converted to numpy arrays internally. The example below illustrates a plotting several lines with different format styles in one command using arrays."
   ]
  },
  {
   "cell_type": "code",
   "execution_count": 74,
   "metadata": {},
   "outputs": [
    {
     "data": {
      "image/png": "[encoded data removed]",
      "text/plain": [
       "<Figure size 432x288 with 1 Axes>"
      ]
     },
     "metadata": {
      "needs_background": "light"
     },
     "output_type": "display_data"
    }
   ],
   "source": [
    "############################################################\n",
    "import numpy as np\n",
    "\n",
    "# evenly sampled time at 200ms intervals\n",
    "t = np.arange(0., 5., 0.2)\n",
    "\n",
    "# red dashes, blue squares and green triangles\n",
    "plt.plot(t, t, 'o--', t, t**2, 'o', t, t**3, 'g^')\n",
    "plt.show()\n",
    "############################################################"
   ]
  },
  {
   "cell_type": "code",
   "execution_count": 75,
   "metadata": {},
   "outputs": [
    {
     "data": {
      "image/png": "[encoded data removed]",
      "text/plain": [
       "<Figure size 432x288 with 1 Axes>"
      ]
     },
     "metadata": {
      "needs_background": "light"
     },
     "output_type": "display_data"
    }
   ],
   "source": [
    "############################################################\n",
    "import numpy as np\n",
    "\n",
    "# evenly sampled time at 200ms intervals\n",
    "t = np.arange(0., 5., 0.2)\n",
    "\n",
    "# red dashes, blue squares and green triangles\n",
    "plt.plot(t, t//100, 'r', t, t**2, 'g', t, t**(1/5), 'b')\n",
    "plt.show()\n",
    "############################################################"
   ]
  },
  {
   "cell_type": "code",
   "execution_count": null,
   "metadata": {},
   "outputs": [],
   "source": []
  }
 ],
 "metadata": {
  "kernelspec": {
   "display_name": "Python 3",
   "language": "python",
   "name": "python3"
  },
  "language_info": {
   "codemirror_mode": {
    "name": "ipython",
    "version": 3
   },
   "file_extension": ".py",
   "mimetype": "text/x-python",
   "name": "python",
   "nbconvert_exporter": "python",
   "pygments_lexer": "ipython3",
   "version": "3.8.5"
  }
 },
 "nbformat": 4,
 "nbformat_minor": 2
}
